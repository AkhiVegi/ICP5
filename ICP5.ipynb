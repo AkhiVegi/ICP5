{
 "cells": [
  {
   "cell_type": "code",
   "execution_count": 2,
   "id": "d79a5a4e-1179-4b46-b164-4363864fa301",
   "metadata": {},
   "outputs": [
    {
     "name": "stdout",
     "output_type": "stream",
     "text": [
      "\u001b[33mDEPRECATION: Loading egg at /Library/Frameworks/Python.framework/Versions/3.12/lib/python3.12/site-packages/jupyter-1.0.0-py3.12.egg is deprecated. pip 24.3 will enforce this behaviour change. A possible replacement is to use pip for package installation.. Discussion can be found at https://github.com/pypa/pip/issues/12330\u001b[0m\u001b[33m\n",
      "\u001b[0mRequirement already satisfied: pandas in /Library/Frameworks/Python.framework/Versions/3.12/lib/python3.12/site-packages (2.2.0)\n",
      "Requirement already satisfied: numpy<2,>=1.26.0 in /Library/Frameworks/Python.framework/Versions/3.12/lib/python3.12/site-packages (from pandas) (1.26.3)\n",
      "Requirement already satisfied: python-dateutil>=2.8.2 in /Library/Frameworks/Python.framework/Versions/3.12/lib/python3.12/site-packages (from pandas) (2.8.2)\n",
      "Requirement already satisfied: pytz>=2020.1 in /Library/Frameworks/Python.framework/Versions/3.12/lib/python3.12/site-packages (from pandas) (2024.1)\n",
      "Requirement already satisfied: tzdata>=2022.7 in /Library/Frameworks/Python.framework/Versions/3.12/lib/python3.12/site-packages (from pandas) (2023.4)\n",
      "Requirement already satisfied: six>=1.5 in /Library/Frameworks/Python.framework/Versions/3.12/lib/python3.12/site-packages (from python-dateutil>=2.8.2->pandas) (1.16.0)\n",
      "\n",
      "\u001b[1m[\u001b[0m\u001b[34;49mnotice\u001b[0m\u001b[1;39;49m]\u001b[0m\u001b[39;49m A new release of pip is available: \u001b[0m\u001b[31;49m23.3.2\u001b[0m\u001b[39;49m -> \u001b[0m\u001b[32;49m24.0\u001b[0m\n",
      "\u001b[1m[\u001b[0m\u001b[34;49mnotice\u001b[0m\u001b[1;39;49m]\u001b[0m\u001b[39;49m To update, run: \u001b[0m\u001b[32;49mpip install --upgrade pip\u001b[0m\n",
      "Note: you may need to restart the kernel to use updated packages.\n"
     ]
    }
   ],
   "source": [
    "pip install pandas"
   ]
  },
  {
   "cell_type": "code",
   "execution_count": 7,
   "id": "8c021cb0-16ea-4f1d-ba56-8059125c89a9",
   "metadata": {},
   "outputs": [
    {
     "name": "stdout",
     "output_type": "stream",
     "text": [
      "\u001b[33mDEPRECATION: Loading egg at /Library/Frameworks/Python.framework/Versions/3.12/lib/python3.12/site-packages/jupyter-1.0.0-py3.12.egg is deprecated. pip 24.3 will enforce this behaviour change. A possible replacement is to use pip for package installation.. Discussion can be found at https://github.com/pypa/pip/issues/12330\u001b[0m\u001b[33m\n",
      "\u001b[0mRequirement already satisfied: scikit-learn in /Library/Frameworks/Python.framework/Versions/3.12/lib/python3.12/site-packages (1.4.0)\n",
      "Requirement already satisfied: numpy<2.0,>=1.19.5 in /Library/Frameworks/Python.framework/Versions/3.12/lib/python3.12/site-packages (from scikit-learn) (1.26.3)\n",
      "Requirement already satisfied: scipy>=1.6.0 in /Library/Frameworks/Python.framework/Versions/3.12/lib/python3.12/site-packages (from scikit-learn) (1.12.0)\n",
      "Requirement already satisfied: joblib>=1.2.0 in /Library/Frameworks/Python.framework/Versions/3.12/lib/python3.12/site-packages (from scikit-learn) (1.3.2)\n",
      "Requirement already satisfied: threadpoolctl>=2.0.0 in /Library/Frameworks/Python.framework/Versions/3.12/lib/python3.12/site-packages (from scikit-learn) (3.2.0)\n",
      "\n",
      "\u001b[1m[\u001b[0m\u001b[34;49mnotice\u001b[0m\u001b[1;39;49m]\u001b[0m\u001b[39;49m A new release of pip is available: \u001b[0m\u001b[31;49m23.3.2\u001b[0m\u001b[39;49m -> \u001b[0m\u001b[32;49m24.0\u001b[0m\n",
      "\u001b[1m[\u001b[0m\u001b[34;49mnotice\u001b[0m\u001b[1;39;49m]\u001b[0m\u001b[39;49m To update, run: \u001b[0m\u001b[32;49mpip install --upgrade pip\u001b[0m\n",
      "Note: you may need to restart the kernel to use updated packages.\n"
     ]
    }
   ],
   "source": [
    "pip install -U scikit-learn"
   ]
  },
  {
   "cell_type": "code",
   "execution_count": 25,
   "id": "79075b29-d3c0-4232-8606-9c6bc084c840",
   "metadata": {},
   "outputs": [
    {
     "name": "stdout",
     "output_type": "stream",
     "text": [
      "Score is 0.49\n",
      "Report               precision    recall  f1-score   support\n",
      "\n",
      "           1       0.41      0.83      0.55        18\n",
      "           2       0.50      0.17      0.25        24\n",
      "           3       0.33      0.33      0.33         6\n",
      "           5       0.50      0.25      0.33         4\n",
      "           6       1.00      0.25      0.40         4\n",
      "           7       0.82      1.00      0.90         9\n",
      "\n",
      "    accuracy                           0.49        65\n",
      "   macro avg       0.59      0.47      0.46        65\n",
      "weighted avg       0.53      0.49      0.44        65\n",
      "\n"
     ]
    }
   ],
   "source": [
    "# Import pandas and scikit-learn library\n",
    "import pandas as pd\n",
    "from sklearn.naive_bayes import GaussianNB\n",
    "from sklearn.metrics import classification_report\n",
    "from sklearn.model_selection import train_test_split\n",
    "\n",
    "# Read given dataset \"glass.csv file\"\n",
    "df = pd.read_csv('glass.csv')\n",
    "\n",
    "# create training and testing part\n",
    "x_train, x_test, y_train, y_test = train_test_split(df.drop(\"Type\", axis=1), df[\"Type\"], test_size=0.3) # test_size=0.3 puts 70% of the data into a training set and the rest 30% into a testing set\n",
    "\n",
    "# Train the model on the data using the Naive_bayes model\n",
    "nbModel = GaussianNB()\n",
    "nbModel.fit(x_train, y_train)\n",
    "\n",
    "\n",
    "# evaluate the model\n",
    "accuracy_score = nbModel.score(x_test, y_test)\n",
    "print('Score is %.2f' % accuracy_score)\n",
    "\n",
    "\n",
    "# generate the classification report  \n",
    "y_pred = nbModel.predict(x_test)\n",
    "report = classification_report(y_true=y_test, y_pred=y_pred) # classification_report method builds a text report showing the main classification metrics\n",
    "print(\"Report\" , report)"
   ]
  },
  {
   "cell_type": "code",
   "execution_count": 30,
   "id": "36ed5715-7c1e-4fee-93f6-b9020d423264",
   "metadata": {},
   "outputs": [
    {
     "name": "stdout",
     "output_type": "stream",
     "text": [
      "Score is 0.60\n",
      "              precision    recall  f1-score   support\n",
      "\n",
      "           1       0.54      0.70      0.61        20\n",
      "           2       0.52      0.57      0.55        21\n",
      "           3       0.00      0.00      0.00         6\n",
      "           5       0.75      0.50      0.60         6\n",
      "           6       0.75      1.00      0.86         3\n",
      "           7       0.88      0.78      0.82         9\n",
      "\n",
      "    accuracy                           0.60        65\n",
      "   macro avg       0.57      0.59      0.57        65\n",
      "weighted avg       0.56      0.60      0.57        65\n",
      "\n"
     ]
    },
    {
     "name": "stderr",
     "output_type": "stream",
     "text": [
      "/Library/Frameworks/Python.framework/Versions/3.12/lib/python3.12/site-packages/sklearn/metrics/_classification.py:1497: UndefinedMetricWarning: Precision is ill-defined and being set to 0.0 in labels with no predicted samples. Use `zero_division` parameter to control this behavior.\n",
      "  _warn_prf(average, modifier, f\"{metric.capitalize()} is\", len(result))\n",
      "/Library/Frameworks/Python.framework/Versions/3.12/lib/python3.12/site-packages/sklearn/metrics/_classification.py:1497: UndefinedMetricWarning: Precision is ill-defined and being set to 0.0 in labels with no predicted samples. Use `zero_division` parameter to control this behavior.\n",
      "  _warn_prf(average, modifier, f\"{metric.capitalize()} is\", len(result))\n",
      "/Library/Frameworks/Python.framework/Versions/3.12/lib/python3.12/site-packages/sklearn/metrics/_classification.py:1497: UndefinedMetricWarning: Precision is ill-defined and being set to 0.0 in labels with no predicted samples. Use `zero_division` parameter to control this behavior.\n",
      "  _warn_prf(average, modifier, f\"{metric.capitalize()} is\", len(result))\n"
     ]
    }
   ],
   "source": [
    "# Import pandas and scikit-learn library\n",
    "import pandas as pd\n",
    "from sklearn.model_selection import train_test_split\n",
    "from sklearn.svm import LinearSVC\n",
    "from sklearn.metrics import classification_report\n",
    "\n",
    "# Read given dataset \"glass.csv file\"\n",
    "df = pd.read_csv('glass.csv')\n",
    "# create training and testing part\n",
    "X_train, X_test, Y_train, Y_test = train_test_split(df.drop(\"Type\", axis=1), df[\"Type\"], test_size=0.3) # test_size=0.3 puts 70% of the data into a training set and the rest 30% into a testing set\n",
    "\n",
    "\n",
    "# Train the model on the data using \"linear support vector classifier\"\n",
    "model = LinearSVC(dual=False)\n",
    "model.fit(X_train, Y_train)\n",
    "\n",
    "# evaluate the model\n",
    "accuracyScore = model.score(X_test, Y_test)\n",
    "print('Score is %.2f' % accuracyScore)\n",
    "\n",
    "# generate the classification report \n",
    "y_pred = model.predict(X_test)\n",
    "report = classification_report(y_true=Y_test, y_pred=y_pred)\n",
    "print(report)"
   ]
  },
  {
   "cell_type": "code",
   "execution_count": null,
   "id": "0f499e8d-4452-402a-8190-300b81775810",
   "metadata": {},
   "outputs": [],
   "source": []
  }
 ],
 "metadata": {
  "kernelspec": {
   "display_name": "Python 3 (ipykernel)",
   "language": "python",
   "name": "python3"
  },
  "language_info": {
   "codemirror_mode": {
    "name": "ipython",
    "version": 3
   },
   "file_extension": ".py",
   "mimetype": "text/x-python",
   "name": "python",
   "nbconvert_exporter": "python",
   "pygments_lexer": "ipython3",
   "version": "3.12.1"
  }
 },
 "nbformat": 4,
 "nbformat_minor": 5
}
